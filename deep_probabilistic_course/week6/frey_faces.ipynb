{
 "cells": [
  {
   "cell_type": "code",
   "execution_count": null,
   "metadata": {},
   "outputs": [],
   "source": [
    "import pyro\n",
    "import pyro.distributions as dist\n",
    "from pyro.distributions import constraints\n",
    "from pyro.infer import SVI, JitTrace_ELBO\n",
    "from pyro.optim import Adam\n",
    "import pandas as pd\n",
    "import torch\n",
    "from torch import nn\n",
    "from tqdm import tqdm\n",
    "import us\n",
    "import seaborn as sns\n",
    "import matplotlib.pyplot as plt \n",
    "import numpy as np\n",
    "from scipy.optimize import root\n",
    "from scipy.io import loadmat\n",
    "pyro.enable_validation()"
   ]
  },
  {
   "cell_type": "code",
   "execution_count": null,
   "metadata": {},
   "outputs": [],
   "source": [
    "freyfaces = loadmat('../data/frey_faces/frey_rawface.mat')\n",
    "freyfaces = np.reshape(np.transpose(freyfaces['ff']), (-1, 28, 20))"
   ]
  },
  {
   "cell_type": "code",
   "execution_count": null,
   "metadata": {},
   "outputs": [],
   "source": [
    "fig = plt.figure(figsize=(8, 8))\n",
    "for i in range(64):\n",
    "    sub = fig.add_subplot(8, 8, i + 1)\n",
    "    sub.set_axis_off()\n",
    "    sub.imshow(freyfaces[i], cmap='gray', vmin=0, vmax=255, interpolation='nearest')\n",
    "fig.subplots_adjust(wspace=0, hspace=0)"
   ]
  },
  {
   "cell_type": "code",
   "execution_count": null,
   "metadata": {},
   "outputs": [],
   "source": [
    "freyfaces_size = freyfaces.shape[0]\n",
    "freyfaces_dataset = torch.utils.data.TensorDataset(torch.tensor(freyfaces, dtype=torch.float) / 255.)\n",
    "test_size = int(0.1 * freyfaces_size)\n",
    "freyfaces_train, freyfaces_test = torch.utils.data.random_split(freyfaces_dataset, [freyfaces_size - test_size, test_size])"
   ]
  },
  {
   "cell_type": "code",
   "execution_count": null,
   "metadata": {},
   "outputs": [],
   "source": [
    "batch_size = 128\n",
    "train_loader = torch.utils.data.DataLoader(freyfaces_train, batch_size=batch_size)\n",
    "test_loader = torch.utils.data.DataLoader(freyfaces_test, batch_size=batch_size)"
   ]
  },
  {
   "cell_type": "code",
   "execution_count": null,
   "metadata": {},
   "outputs": [],
   "source": [
    "# TODO: Train VAE based on Pyro's VAE tutorial https://pyro.ai/examples/vae.html"
   ]
  },
  {
   "cell_type": "code",
   "execution_count": null,
   "metadata": {},
   "outputs": [],
   "source": [
    "# TODO: Show ELBO plot"
   ]
  },
  {
   "cell_type": "code",
   "execution_count": null,
   "metadata": {},
   "outputs": [],
   "source": [
    "# TODO: Sample VAE and show reconstructions like the original picture on top"
   ]
  },
  {
   "cell_type": "code",
   "execution_count": null,
   "metadata": {},
   "outputs": [],
   "source": []
  }
 ],
 "metadata": {
  "language_info": {
   "codemirror_mode": {
    "name": "ipython",
    "version": 3
   },
   "file_extension": ".py",
   "mimetype": "text/x-python",
   "name": "python",
   "nbconvert_exporter": "python",
   "pygments_lexer": "ipython3",
   "version": "3.8.3-final"
  },
  "orig_nbformat": 2,
  "kernelspec": {
   "name": "python38364bitdeepprobprogcourseconda12a78745df2d458aa4729f55962e16cf",
   "display_name": "Python 3.8.3 64-bit ('deep-probprog-course': conda)"
  }
 },
 "nbformat": 4,
 "nbformat_minor": 2
}