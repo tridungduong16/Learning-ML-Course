{
 "cells": [
  {
   "cell_type": "code",
   "execution_count": null,
   "metadata": {},
   "outputs": [],
   "source": [
    "import pyro\n",
    "import pyro.distributions as dist\n",
    "from pyro.distributions import constraints\n",
    "from pyro.infer import SVI, JitTrace_ELBO\n",
    "from pyro.optim import Adam\n",
    "import pandas as pd\n",
    "import torch\n",
    "from tqdm import tqdm\n",
    "pyro.enable_validation()"
   ]
  },
  {
   "cell_type": "code",
   "execution_count": null,
   "metadata": {},
   "outputs": [],
   "source": [
    "data = pd.read_csv('../data/kidney_cancer/gd80to84.txt', sep='\\t', usecols=['county', 'pop', 'dc'])\n",
    "datacnt = pd.read_csv('../data/kidney_cancer/gd85to89.txt', sep='\\t', usecols=['county', 'pop', 'dc'])\n",
    "data['dc'] += datacnt['dc']\n",
    "data = data.dropna(thresh=1)\n",
    "population = torch.from_numpy(data['pop'].to_numpy().astype('float32'))\n",
    "deathcount = torch.from_numpy(data['dc'].to_numpy().astype('float32'))"
   ]
  },
  {
   "cell_type": "code",
   "execution_count": null,
   "metadata": {},
   "outputs": [],
   "source": [
    "def model(population, deathcount):\n",
    "    with pyro.plate('data', population.shape[0], subsample_size=32) as idx:\n",
    "        pass # TODO: Write Model"
   ]
  },
  {
   "cell_type": "code",
   "execution_count": null,
   "metadata": {},
   "outputs": [],
   "source": [
    "pyro.clear_param_store()\n",
    "def guide(population, deathcount):\n",
    "    # TODO: Write Guide\n",
    "    with pyro.plate('data', data.shape[0], subsample_size=32) as idx:\n",
    "        pass"
   ]
  },
  {
   "cell_type": "code",
   "execution_count": null,
   "metadata": {
    "tags": []
   },
   "outputs": [],
   "source": [
    "svi = SVI(model, guide, Adam({'lr': 1.0}), JitTrace_ELBO(3))\n",
    "pbar = tqdm(range(1000))\n",
    "for i in pbar:\n",
    "    loss = svi.step(population, deathcount)\n",
    "    pbar.set_description(f\"Loss: {loss}\")"
   ]
  },
  {
   "cell_type": "code",
   "execution_count": null,
   "metadata": {},
   "outputs": [],
   "source": [
    "# TODO: Print parameter values and check whether they correspond to the expected ones"
   ]
  },
  {
   "cell_type": "code",
   "execution_count": null,
   "metadata": {},
   "outputs": [],
   "source": []
  }
 ],
 "metadata": {
  "language_info": {
   "codemirror_mode": {
    "name": "ipython",
    "version": 3
   },
   "file_extension": ".py",
   "mimetype": "text/x-python",
   "name": "python",
   "nbconvert_exporter": "python",
   "pygments_lexer": "ipython3",
   "version": "3.8.2-final"
  },
  "orig_nbformat": 2,
  "kernelspec": {
   "name": "python38264bitpyrosandboxconda1c987f330cde4c7a858704ebe5fd0992",
   "display_name": "Python 3.8.2 64-bit ('pyro-sandbox': conda)"
  }
 },
 "nbformat": 4,
 "nbformat_minor": 2
}