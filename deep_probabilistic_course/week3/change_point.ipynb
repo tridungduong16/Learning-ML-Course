{
 "cells": [
  {
   "cell_type": "markdown",
   "metadata": {},
   "source": [
    "Based on https://cscherrer.github.io/post/bayesian-changepoint/"
   ]
  },
  {
   "cell_type": "code",
   "execution_count": null,
   "metadata": {},
   "outputs": [],
   "source": [
    "import pyro\n",
    "import pyro.distributions as dist\n",
    "from pyro.distributions import constraints\n",
    "from pyro.infer import NUTS, MCMC\n",
    "from pyro.optim import Adam\n",
    "import pandas as pd\n",
    "import torch\n",
    "from tqdm import tqdm\n",
    "import us\n",
    "import seaborn as sns\n",
    "import matplotlib.pyplot as plt \n",
    "import matplotlib.ticker as ticker\n",
    "import numpy as np"
   ]
  },
  {
   "cell_type": "code",
   "execution_count": null,
   "metadata": {},
   "outputs": [],
   "source": [
    "coal_mining = pd.read_csv('../data/coal_mining/coal_mining.csv')\n",
    "coal_mining"
   ]
  },
  {
   "cell_type": "code",
   "execution_count": null,
   "metadata": {},
   "outputs": [],
   "source": [
    "years = torch.from_numpy(coal_mining['years'].to_numpy())\n",
    "count = torch.from_numpy(coal_mining['count'].to_numpy())"
   ]
  },
  {
   "cell_type": "code",
   "execution_count": null,
   "metadata": {},
   "outputs": [],
   "source": [
    "plt.bar(years, count, label='count')"
   ]
  },
  {
   "cell_type": "code",
   "execution_count": null,
   "metadata": {},
   "outputs": [],
   "source": [
    "def model(years, count):\n",
    "    # TODO: Write Model"
   ]
  },
  {
   "cell_type": "code",
   "execution_count": null,
   "metadata": {},
   "outputs": [],
   "source": [
    "samples = ... # TODO: Run NUTS and replace ... with the samples from the algorithm"
   ]
  },
  {
   "cell_type": "code",
   "execution_count": null,
   "metadata": {},
   "outputs": [],
   "source": [
    "plt.hist(samples['changepoint'])"
   ]
  },
  {
   "cell_type": "code",
   "execution_count": null,
   "metadata": {},
   "outputs": [],
   "source": [
    "df = pd.DataFrame({\n",
    "    'changepoint': samples['changepoint'],\n",
    "    'rate0': samples['rates'][..., 0],\n",
    "    'rate1': samples['rates'][..., 1]\n",
    "})\n",
    "df"
   ]
  },
  {
   "cell_type": "code",
   "execution_count": null,
   "metadata": {},
   "outputs": [],
   "source": [
    "plt.bar(years, count, label='count')\n",
    "plt.xlabel('Year')\n",
    "plt.ylabel('Incidents')\n",
    "\n",
    "def pl(pt):\n",
    "    grp = (years > pt['changepoint']) * 1\n",
    "    line = plt.plot(years,pt['rate0']* (1 - grp) + pt['rate1'] * grp, \n",
    "      color='red', alpha=0.005)    \n",
    "\n",
    "    \n",
    "df.apply(pl,axis=1);"
   ]
  },
  {
   "cell_type": "code",
   "execution_count": null,
   "metadata": {},
   "outputs": [],
   "source": []
  }
 ],
 "metadata": {
  "language_info": {
   "codemirror_mode": {
    "name": "ipython",
    "version": 3
   },
   "file_extension": ".py",
   "mimetype": "text/x-python",
   "name": "python",
   "nbconvert_exporter": "python",
   "pygments_lexer": "ipython3",
   "version": "3.8.3-final"
  },
  "orig_nbformat": 2,
  "kernelspec": {
   "name": "python38364bitdeepprobprogcourseconda071e3aac92a944639a759a069eba10f1",
   "display_name": "Python 3.8.3 64-bit ('deep-probprog-course': conda)"
  }
 },
 "nbformat": 4,
 "nbformat_minor": 2
}